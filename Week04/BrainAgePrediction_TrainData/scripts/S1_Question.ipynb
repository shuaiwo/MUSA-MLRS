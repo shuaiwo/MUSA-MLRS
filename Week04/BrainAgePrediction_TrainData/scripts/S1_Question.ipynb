{
 "cells": [
  {
   "cell_type": "markdown",
   "id": "940818cc-6aa1-4320-8273-c28e074e23b3",
   "metadata": {},
   "source": [
    "## Brain Age Prediction"
   ]
  },
  {
   "cell_type": "markdown",
   "id": "16ff0087-780d-4d85-a011-fb68b623202c",
   "metadata": {},
   "source": [
    "### Data: \n",
    "IXI_Train_RegionalVolumes.csv: Brain images of subjects in the public IXI dataset were automatically segmented into regions of interest. The volumes of these regions were calculated. This csv file includes volumes of ~250 brain regions for each subject. Column header has a numeric index value for each region. The ID column is the unique ID for each subject\n",
    "\n",
    "IXI_Train_Demog.csv: Demographic information for each subject (Age and Sex)\n",
    "\n",
    "### Task: \n",
    "Training a model to predict the \"Age\" of a subject from regional brain volumes.\n",
    "\n",
    "### Steps: \n",
    "- Read each csv to a dataframe;\n",
    "- Merge the data files and clean data;\n",
    "- Use all values other than the Age as predictor variables (X);\n",
    "- Use the Age as the target variable (y);\n",
    "- Split the data as training/testing;\n",
    "- Train a model using the training set and evaluate it on the testing set\n",
    "- OPTIONAL: Apply cross-validation techniques to optimize your model type and parameters\n",
    "\n",
    "### Notes:\n",
    "- The data in the two csv files do not match necessarily in terms of the subject IDs. This is not an error. Data cleaning should handle this.\n",
    "- A necessary preprocessing step before training a model is to \"normalize\" the data. You can use \"sklearn.preprocessing.StandardScaler\" for this step.\n",
    "\n",
    "### Evaluation:\n",
    "Your trained model will be applied on a test dataset to calculate final accuracy (dataset not available for now)\n"
   ]
  },
  {
   "cell_type": "markdown",
   "id": "d304cb8b-f962-4d24-ac4b-772bf334098f",
   "metadata": {},
   "source": [
    "### Bonus tasks:\n",
    "\n",
    "Data visualization is a useful first step before running an ML model. As an exercise, you can work on the following tasks:\n",
    "\n",
    "- Find the region that has the highest correlation with Age\n",
    "- Create a scatter plot with Age as the x axis and the region you detected as the y axis\n",
    "- Show a trend line of the fit between the select region's volume and Age (suggestion: Use Seaborn lmplot or regplot functions)\n",
    "- Show the trend line separately for males and females.\n"
   ]
  }
 ],
 "metadata": {
  "kernelspec": {
   "display_name": "Python 3 (ipykernel)",
   "language": "python",
   "name": "python3"
  },
  "language_info": {
   "codemirror_mode": {
    "name": "ipython",
    "version": 3
   },
   "file_extension": ".py",
   "mimetype": "text/x-python",
   "name": "python",
   "nbconvert_exporter": "python",
   "pygments_lexer": "ipython3",
   "version": "3.10.9"
  }
 },
 "nbformat": 4,
 "nbformat_minor": 5
}
