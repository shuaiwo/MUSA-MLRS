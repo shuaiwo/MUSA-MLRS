{
 "cells": [
  {
   "cell_type": "markdown",
   "metadata": {},
   "source": [
    "## HW1 - Basics of ML\n",
    "Include your code in the relevant cells below.\n",
    "Subparts labeled as questions (Q1.1, Q1.2, etc.) should have their answers filled in or plots placed prominently, as appropriate."
   ]
  },
  {
   "cell_type": "markdown",
   "metadata": {},
   "source": [
    "#### Important notes: \n",
    "\n",
    "1. On this and future homeworks, depending on the data size and your hardware configuration, experiments may take too long if you use the complete dataset. This may be challenging, as you may need to run multiple experiments. So, if an experiment takes too much time, start first with a smaller sample that will allow you to run your code within a reasonable time. Once you complete all tasks, before the final submission, you can allow longer run times and run your code with the complete set. However, if this is still taking too much time or causing your computer to freeze, it will be OK to submit experiments using a sample size that is feasible for your setting (indicate it clearly in your submission). Grading of the homework will not be affected from this type of variations in the design of your experiments.\n",
    "\n",
    "\n",
    "2. You can switch between 2D image data and 1D vector data using the numpy functions flatten() and resize()"
   ]
  },
  {
   "cell_type": "markdown",
   "metadata": {},
   "source": [
    "### S1: Filtering the data\n",
    "- Load MNIST FASHION dataset (hint: use the practice notebook)\n",
    "- Select a training set with the first n=100 samples from each category\n",
    "- Select a testing set with the first n=100 samples from each category\n",
    "- Create a numpy matrix named mat_avg defined as:\n",
    "  A 10 x 2 matrix with the average intensity of all images in each category for the training and testing sets (rows: 10 categories, columns: average intensity in train set,  average intensity in test set)\n",
    "\n",
    "Q1.1: Which category has the largest average intensity value in training data:   ___\n",
    "\n",
    "Q1.2: Which category has the largest average intensity value in testing data:   ___"
   ]
  },
  {
   "cell_type": "markdown",
   "metadata": {},
   "source": [
    "### S2: Finding the average image\n",
    "- Find and display a single average image of all shoes (categories 'Sandal', 'Sneaker', 'Ankle boot') in training and testing data (use the smaller sample you created)"
   ]
  },
  {
   "cell_type": "markdown",
   "metadata": {},
   "source": [
    "### S3: Image distances\n",
    "In the training set, find the shoe image that is most dissimilar from the mean shoe image. Show it as a 2D image\n",
    "In the training set, find the shoe image that is most similar from the mean shoe image. Show it as a 2D image\n",
    "Do the same for the testing set\n",
    "Hint: You can use the \"euclidean distance\" as your similarity metric. Given that an image i is represented with a flattened feature vector v_i , and the second image j with v_m, the distance between these two images can be calculated using the vector norm of their differences ( | v_i - v_j | )\n",
    "\n",
    "Q3.1: What is the index of most similar shoe image in the training set: ___\n",
    "\n",
    "Q3.2: What is the index of most dissimilar shoe image in the training set: ___\n",
    "\n",
    "Q3.1: What is the index of most dissimilar shoe image in the testing set: ___\n"
   ]
  },
  {
   "cell_type": "markdown",
   "metadata": {},
   "source": [
    "### S4: Train a classifier to differentiate shoes from no-shoes\n",
    "- Create new labels for train and test images as shoes (1) or no-shoes (0)\n",
    "- Train 2 different classifiers on the training set (SVM and Random Forest). Apply the classifiers on the testing data\n",
    "- Display the confusion matrix of each classifier\n",
    "- Display 4 images that are mis-classified as shoes by each classifier\n",
    "\n",
    "Q1.1: What is the testing accuracy of each classifier:   ___\n",
    "\n",
    "Q1.2: What is the category (original label) that is most frequently mis-classified as a shoe:   ___\n",
    "\n",
    "Q1.3: What is the category (original label) that is most frequently mis-classified as a non-shoe:   ___\n"
   ]
  },
  {
   "cell_type": "markdown",
   "metadata": {},
   "source": [
    "### Bonus:\n",
    "\n",
    "- In question S4 you have a chance to discard one of image categories that are part of the non-shoe set. Which category would you prefer to discard? Explain and justify with data\n"
   ]
  }
 ],
 "metadata": {
  "kernelspec": {
   "display_name": "Python 3 (ipykernel)",
   "language": "python",
   "name": "python3"
  },
  "language_info": {
   "codemirror_mode": {
    "name": "ipython",
    "version": 3
   },
   "file_extension": ".py",
   "mimetype": "text/x-python",
   "name": "python",
   "nbconvert_exporter": "python",
   "pygments_lexer": "ipython3",
   "version": "3.8.17"
  }
 },
 "nbformat": 4,
 "nbformat_minor": 4
}
