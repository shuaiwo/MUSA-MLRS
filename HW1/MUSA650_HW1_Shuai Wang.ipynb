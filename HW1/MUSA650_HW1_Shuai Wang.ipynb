{
  "cells": [
    {
      "cell_type": "markdown",
      "metadata": {
        "id": "jlMSrraeM0FK"
      },
      "source": [
        "## HW1 - Basics of ML\n",
        "Include your code in the relevant cells below.\n",
        "Subparts labeled as questions (Q1.1, Q1.2, etc.) should have their answers filled in or plots placed prominently, as appropriate."
      ]
    },
    {
      "cell_type": "markdown",
      "metadata": {
        "id": "xyoqjMD9M0FL"
      },
      "source": [
        "#### Important notes:\n",
        "\n",
        "1. On this and future homeworks, depending on the data size and your hardware configuration, experiments may take too long if you use the complete dataset. This may be challenging, as you may need to run multiple experiments. So, if an experiment takes too much time, start first with a smaller sample that will allow you to run your code within a reasonable time. Once you complete all tasks, before the final submission, you can allow longer run times and run your code with the complete set. However, if this is still taking too much time or causing your computer to freeze, it will be OK to submit experiments using a sample size that is feasible for your setting (indicate it clearly in your submission). Grading of the homework will not be affected from this type of variations in the design of your experiments.\n",
        "\n",
        "\n",
        "2. You can switch between 2D image data and 1D vector data using the numpy functions flatten() and resize()"
      ]
    },
    {
      "cell_type": "markdown",
      "metadata": {
        "id": "lni2nhbLM0FL"
      },
      "source": [
        "### S1: Filtering the data\n",
        "- Load MNIST FASHION dataset (hint: use the practice notebook)\n",
        "- Select a training set with the first n=100 samples from each category\n",
        "- Select a testing set with the first n=100 samples from each category\n",
        "- Create a numpy matrix named mat_avg defined as:\n",
        "  A 10 x 2 matrix with the average intensity of all images in each category for the training and testing sets (rows: 10 categories, columns: average intensity in train set,  average intensity in test set)\n",
        "\n",
        "Q1.1: Which category has the largest average intensity value in training data:   2\n",
        "\n",
        "Q1.2: Which category has the largest average intensity value in testing data:   4"
      ]
    },
    {
      "cell_type": "code",
      "execution_count": 1,
      "metadata": {
        "id": "9r77u9FOOhKw"
      },
      "outputs": [
        {
          "name": "stderr",
          "output_type": "stream",
          "text": [
            "/var/folders/91/fw6j_j153bv0ybx1rzlkpy2r0000gn/T/ipykernel_16634/2080034654.py:2: DeprecationWarning: \n",
            "Pyarrow will become a required dependency of pandas in the next major release of pandas (pandas 3.0),\n",
            "(to allow more performant data types, such as the Arrow string type, and better interoperability with other libraries)\n",
            "but was not found to be installed on your system.\n",
            "If this would cause problems for you,\n",
            "please provide us feedback at https://github.com/pandas-dev/pandas/issues/54466\n",
            "        \n",
            "  import pandas as pd\n"
          ]
        }
      ],
      "source": [
        "import numpy as np\n",
        "import pandas as pd\n",
        "import matplotlib.pyplot as plt"
      ]
    },
    {
      "cell_type": "code",
      "execution_count": 2,
      "metadata": {
        "id": "WRcMD1eXOmSI"
      },
      "outputs": [],
      "source": [
        "import tensorflow as tf\n",
        "mnist = tf.keras.datasets.fashion_mnist\n",
        "(X_tr, Y_tr), (X_te, Y_te) = mnist.load_data()"
      ]
    },
    {
      "cell_type": "code",
      "execution_count": 3,
      "metadata": {
        "id": "2sB4ZHG8OmXs"
      },
      "outputs": [],
      "source": [
        "# Select a training/testing set with the first n=100 samples from each category\n",
        "\n",
        "X_tr_samples = np.zeros((1000, 28, 28))\n",
        "Y_tr_samples = np.zeros((1000))\n",
        "for i in range(10):\n",
        "  X_tr_samples[i*100:(i+1)*100] = X_tr[Y_tr == i][:100]\n",
        "  Y_tr_samples[i*100:(i+1)*100] = Y_tr[Y_tr == i][:100]\n",
        "\n",
        "X_te_samples = np.zeros((1000, 28, 28))\n",
        "Y_te_samples = np.zeros((1000))\n",
        "for i in range(10):\n",
        "  X_te_samples[i*100:(i+1)*100] = X_te[Y_te == i][:100]\n",
        "  Y_te_samples[i*100:(i+1)*100] = Y_te[Y_te == i][:100]"
      ]
    },
    {
      "cell_type": "code",
      "execution_count": 4,
      "metadata": {
        "colab": {
          "base_uri": "https://localhost:8080/"
        },
        "id": "gtWUozGiOmbX",
        "outputId": "3b123b49-6c76-4fa3-de97-35e743e0816a"
      },
      "outputs": [
        {
          "name": "stdout",
          "output_type": "stream",
          "text": [
            "2\n",
            "4\n"
          ]
        }
      ],
      "source": [
        "# Create a numpy matrix named mat_avg\n",
        "mat_avg = np.zeros((10,2))\n",
        "\n",
        "for i in range(10):\n",
        "  mat_avg[i,0] = np.mean(X_tr_samples[Y_tr_samples == i])\n",
        "  mat_avg[i,1] = np.mean(X_te_samples[Y_te_samples == i])\n",
        "\n",
        "# Q1.1: Which category has the largest average intensity value in training data:   ___\n",
        "print(np.argmax(mat_avg[:,0]))\n",
        "\n",
        "# Q1.2: Which category has the largest average intensity value in testing data:   ___\n",
        "print(np.argmax(mat_avg[:,1]))\n"
      ]
    },
    {
      "cell_type": "markdown",
      "metadata": {
        "id": "xUn6N5JDM0FL"
      },
      "source": [
        "### S2: Finding the average image\n",
        "- Find and display a single average image of all shoes (categories 'Sandal', 'Sneaker', 'Ankle boot') in training and testing data (use the smaller sample you created)"
      ]
    },
    {
      "cell_type": "code",
      "execution_count": 77,
      "metadata": {
        "colab": {
          "base_uri": "https://localhost:8080/",
          "height": 444
        },
        "id": "RRkrlTAmVjIw",
        "outputId": "3939d9b5-fa34-47c1-91ba-bb032e984aa4"
      },
      "outputs": [
        {
          "data": {
            "image/png": "[encoded data removed]",
            "text/plain": [
              "<Figure size 1000x500 with 1 Axes>"
            ]
          },
          "metadata": {},
          "output_type": "display_data"
        }
      ],
      "source": [
        "# Select shoes from training and testing data\n",
        "X_tr_shoes_ind = np.where((Y_tr_samples == 5) | (Y_tr_samples == 7) | (Y_tr_samples == 9))[0]\n",
        "X_te_shoes_ind = np.where((Y_te_samples == 5) | (Y_te_samples == 7) | (Y_te_samples == 9))[0]\n",
        "\n",
        "X_tr_shoes_img = X_tr_samples[X_tr_shoes_ind, :, :]\n",
        "X_te_shoes_img = X_te_samples[X_te_shoes_ind, :, :]\n",
        "\n",
        "combined_shoes = np.concatenate((X_tr_shoes_img, X_te_shoes_img))\n",
        "\n",
        "# Calculate the average image for training and testing shoes\n",
        "avg_shoe = np.mean(combined_shoes, axis=0)\n",
        "\n",
        "# Display the average images\n",
        "plt.figure(figsize=(10, 5))\n",
        "plt.title(\"Average Shoe\")\n",
        "plt.imshow(avg_shoe, cmap=\"gray\")\n",
        "plt.axis(\"off\")\n",
        "\n",
        "plt.show()\n"
      ]
    },
    {
      "cell_type": "markdown",
      "metadata": {
        "id": "FKmXBvG_M0FM"
      },
      "source": [
        "### S3: Image distances\n",
        "In the training set, find the shoe image that is most dissimilar from the mean shoe image. Show it as a 2D image\n",
        "In the training set, find the shoe image that is most similar from the mean shoe image. Show it as a 2D image\n",
        "Do the same for the testing set\n",
        "Hint: You can use the \"euclidean distance\" as your similarity metric. Given that an image i is represented with a flattened feature vector v_i , and the second image j with v_m, the distance between these two images can be calculated using the vector norm of their differences ( | v_i - v_j | )\n",
        "\n",
        "Q3.1: What is the index of most similar shoe image in the training set: 789\n",
        "\n",
        "Q3.2: What is the index of most dissimilar shoe image in the training set: 936\n",
        "\n",
        "Q3.1: What is the index of most dissimilar shoe image in the testing set: 957\n"
      ]
    },
    {
      "cell_type": "code",
      "execution_count": 78,
      "metadata": {
        "id": "l7FHSDvgSoKD"
      },
      "outputs": [],
      "source": [
        "## Find pixelwise \"distance\" of each image to the mean image\n",
        "vec_mean = avg_shoe.flatten()\n",
        "arr_d = np.zeros(X_tr_shoes_ind.shape[0])\n",
        "\n",
        "for i, ind_sel in enumerate(X_tr_shoes_ind):\n",
        "  img_sel = X_tr_samples[ind_sel, :, :].flatten()\n",
        "  d_sel = np.linalg.norm(img_sel - vec_mean)\n",
        "  arr_d[i] = d_sel\n",
        "\n",
        "ind_similar = X_tr_shoes_ind[arr_d.argmin()]\n",
        "ind_dissimilar = X_tr_shoes_ind[arr_d.argmax()]"
      ]
    },
    {
      "cell_type": "code",
      "execution_count": 79,
      "metadata": {
        "colab": {
          "base_uri": "https://localhost:8080/"
        },
        "id": "SLjveePJBMyX",
        "outputId": "7b0e447b-03cf-4498-8f83-48f09d5a78bb"
      },
      "outputs": [
        {
          "data": {
            "text/plain": [
              "789"
            ]
          },
          "execution_count": 79,
          "metadata": {},
          "output_type": "execute_result"
        }
      ],
      "source": [
        "ind_similar"
      ]
    },
    {
      "cell_type": "code",
      "execution_count": 80,
      "metadata": {
        "colab": {
          "base_uri": "https://localhost:8080/"
        },
        "id": "bhLRO2PQavWC",
        "outputId": "0bdbca7c-86f7-4de4-8d57-7b02bb8a698f"
      },
      "outputs": [
        {
          "data": {
            "text/plain": [
              "936"
            ]
          },
          "execution_count": 80,
          "metadata": {},
          "output_type": "execute_result"
        }
      ],
      "source": [
        "ind_dissimilar"
      ]
    },
    {
      "cell_type": "code",
      "execution_count": 81,
      "metadata": {
        "id": "ujPtI4abavMs"
      },
      "outputs": [],
      "source": [
        "# testing set:\n",
        "vec_mean = avg_shoe.flatten()\n",
        "arr_d = np.zeros(X_te_shoes_ind.shape[0])\n",
        "\n",
        "for i, ind_sel in enumerate(X_te_shoes_ind):\n",
        "  img_sel = X_te_samples[ind_sel, :, :].flatten()\n",
        "  d_sel = np.linalg.norm(img_sel - vec_mean)\n",
        "  arr_d[i] = d_sel\n",
        "\n",
        "ind_dissimilar = X_te_shoes_ind[arr_d.argmax()]\n"
      ]
    },
    {
      "cell_type": "code",
      "execution_count": 82,
      "metadata": {
        "colab": {
          "base_uri": "https://localhost:8080/"
        },
        "id": "vGfWnpDGBMl8",
        "outputId": "ca073711-2c70-4649-b048-678aed7cdec3"
      },
      "outputs": [
        {
          "data": {
            "text/plain": [
              "957"
            ]
          },
          "execution_count": 82,
          "metadata": {},
          "output_type": "execute_result"
        }
      ],
      "source": [
        "ind_dissimilar"
      ]
    },
    {
      "cell_type": "markdown",
      "metadata": {
        "id": "j-fZ14zFM0FM"
      },
      "source": [
        "### S4: Train a classifier to differentiate shoes from no-shoes\n",
        "- Create new labels for train and test images as shoes (1) or no-shoes (0)\n",
        "- Train 2 different classifiers on the training set (SVM and Random Forest). Apply the classifiers on the testing data\n",
        "- Display the confusion matrix of each classifier\n",
        "- Display 4 images that are mis-classified as shoes by each classifier\n",
        "\n",
        "Q1.1: What is the testing accuracy of each classifier:  \n",
        "Accuracy of SVM classifier:  0.9968.\n",
        "Accuracy of the Random Forest classifier: 0.9988\n",
        "\n",
        "Q1.2: What is the category (original label) that is most frequently mis-classified as a shoe:   8\n",
        "\n",
        "Q1.3: What is the category (original label) that is most frequently mis-classified as a non-shoe:  5\n"
      ]
    },
    {
      "cell_type": "code",
      "execution_count": 83,
      "metadata": {
        "id": "FDp3x4OHeOJk"
      },
      "outputs": [],
      "source": [
        "## Replace labels\n",
        "#Y_tr_samples[(Y_tr_samples != 5) | (Y_tr_samples !=7) | (Y_tr_samples != 9)] = 0\n",
        "#Y_tr_samples[(Y_tr_samples == 5) | (Y_tr_samples ==7) | (Y_tr_samples == 9)] = 1\n",
        "#Y_te_samples[(Y_te_samples != 5) | (Y_te_samples !=7) | (Y_te_samples != 9)] = 0\n",
        "#Y_te_samples[(Y_te_samples == 5) | (Y_te_samples ==7) | (Y_te_samples == 9)] = 1\n",
        "\n",
        "from sklearn import svm\n",
        "from sklearn.ensemble import RandomForestClassifier\n",
        "from sklearn.metrics import classification_report, accuracy_score\n",
        "from sklearn.metrics import confusion_matrix\n",
        "\n",
        "# Create new labels for train and test images as shoes (1) or no-shoes (0)\n",
        "# Y_tr = np.where((Y_tr == 5) | (Y_tr == 7) | (Y_tr == 9), 1, 0)\n",
        "# Y_te = np.where((Y_te == 5) | (Y_te == 7) | (Y_te == 9), 1, 0)\n",
        "\n",
        "# Create new labels for train and test images\n",
        "Y_tr_new = np.array([])\n",
        "for label in Y_tr:\n",
        "    if label == 5 or label == 7 or label == 9:\n",
        "        Y_tr_new = np.append(Y_tr_new, 1)\n",
        "    else:\n",
        "        Y_tr_new = np.append(Y_tr_new, 0)\n",
        "\n",
        "Y_te_new = np.array([])\n",
        "for label in Y_te:\n",
        "    if label == 5 or label == 7 or label == 9:\n",
        "        Y_te_new = np.append(Y_te_new, 1)\n",
        "    else:\n",
        "        Y_te_new = np.append(Y_te_new, 0)\n",
        "\n",
        "## Flatten images\n",
        "X_tr = X_tr.reshape(X_tr.shape[0], -1)\n",
        "X_te = X_te.reshape(X_te.shape[0], -1)\n",
        "\n",
        "# Create the svm classifier\n",
        "clf = svm.SVC(kernel='linear') # Linear Kernel\n",
        "\n",
        "# Train the model\n",
        "clf.fit(X_tr, Y_tr_new)\n",
        "\n",
        "# Train Random Forest classifier\n",
        "clf_rf = RandomForestClassifier()\n",
        "clf_rf.fit(X_tr, Y_tr_new)\n",
        "\n",
        "# Predict the label\n",
        "y_pred_svm = clf.predict(X_te)\n",
        "y_pred_rf = clf_rf.predict(X_te)\n",
        "\n",
        "\n"
      ]
    },
    {
      "cell_type": "code",
      "execution_count": 84,
      "metadata": {
        "colab": {
          "base_uri": "https://localhost:8080/"
        },
        "id": "icC53YsX-XoH",
        "outputId": "779a6288-c88f-4cc3-d37f-5ebb7cf9195a"
      },
      "outputs": [
        {
          "name": "stdout",
          "output_type": "stream",
          "text": [
            "(60000,)\n"
          ]
        }
      ],
      "source": [
        "print(Y_tr_new.shape)"
      ]
    },
    {
      "cell_type": "code",
      "execution_count": 85,
      "metadata": {
        "colab": {
          "base_uri": "https://localhost:8080/"
        },
        "id": "InuBQPs79caw",
        "outputId": "ba8c1cb6-369b-4006-f600-d03ed6fe1d3c"
      },
      "outputs": [
        {
          "data": {
            "text/plain": [
              "array([1., 0., 0., ..., 0., 0., 1.])"
            ]
          },
          "execution_count": 85,
          "metadata": {},
          "output_type": "execute_result"
        }
      ],
      "source": [
        "Y_tr_new"
      ]
    },
    {
      "cell_type": "code",
      "execution_count": 86,
      "metadata": {
        "colab": {
          "base_uri": "https://localhost:8080/"
        },
        "id": "bWEXhL47pa1y",
        "outputId": "79578706-4066-4b2b-9a13-76f3853a5fc1"
      },
      "outputs": [
        {
          "name": "stdout",
          "output_type": "stream",
          "text": [
            "Accuracy of SVM classifier:  0.9968\n",
            "Accuracy of the Random Forest classifier: 0.9989\n"
          ]
        }
      ],
      "source": [
        "from sklearn import metrics\n",
        "print('Accuracy of SVM classifier: ', metrics.accuracy_score(Y_te_new, y_pred_svm))\n",
        "\n",
        "print(\"Accuracy of the Random Forest classifier:\", accuracy_score(Y_te_new, y_pred_rf))\n"
      ]
    },
    {
      "cell_type": "code",
      "execution_count": 87,
      "metadata": {
        "colab": {
          "base_uri": "https://localhost:8080/",
          "height": 996
        },
        "id": "LqYGyQuorlHy",
        "outputId": "c59f20f1-ec50-433d-881b-c60c90ccf8b9"
      },
      "outputs": [
        {
          "name": "stdout",
          "output_type": "stream",
          "text": [
            "SVM Confusion Matrix:\n",
            "[[6979   21]\n",
            " [  11 2989]]\n",
            "\n",
            "Random Forest Confusion Matrix:\n",
            "[[6994    6]\n",
            " [   5 2995]]\n"
          ]
        },
        {
          "data": {
            "image/png": "[encoded data removed]",
            "text/plain": [
              "<Figure size 1000x500 with 4 Axes>"
            ]
          },
          "metadata": {},
          "output_type": "display_data"
        },
        {
          "data": {
            "image/png": "[encoded data removed]",
            "text/plain": [
              "<Figure size 1000x500 with 4 Axes>"
            ]
          },
          "metadata": {},
          "output_type": "display_data"
        }
      ],
      "source": [
        "# Calculate confusion matrices\n",
        "cm_svm = confusion_matrix(Y_te_new, y_pred_svm)\n",
        "cm_rf = confusion_matrix(Y_te_new, y_pred_rf)\n",
        "\n",
        "# Display confusion matrices\n",
        "print(\"SVM Confusion Matrix:\")\n",
        "print(cm_svm)\n",
        "print(\"\\nRandom Forest Confusion Matrix:\")\n",
        "print(cm_rf)\n",
        "\n",
        "# Find misclassified images for each classifier\n",
        "misclassified_svm = np.where(y_pred_svm != Y_te_new)[0]\n",
        "misclassified_rf = np.where(y_pred_rf != Y_te_new)[0]\n",
        "\n",
        "# Display misclassified images for SVM\n",
        "plt.figure(figsize=(10, 5))\n",
        "for i in range(4):\n",
        "    plt.subplot(2, 2, i+1)\n",
        "    plt.imshow(X_te[misclassified_svm[i]].reshape(28, 28), cmap='gray')\n",
        "    plt.title(\"SVM: Misclassified as Shoe\")\n",
        "    plt.axis('off')\n",
        "plt.show()\n",
        "\n",
        "# Display misclassified images for Random Forest\n",
        "plt.figure(figsize=(10, 5))\n",
        "for i in range(4):\n",
        "    plt.subplot(2, 2, i+1)\n",
        "    plt.imshow(X_te[misclassified_rf[i]].reshape(28, 28), cmap='gray')\n",
        "    plt.title(\"Random Forest: Misclassified as Shoe\")\n",
        "    plt.axis('off')\n",
        "plt.show()"
      ]
    },
    {
      "cell_type": "code",
      "execution_count": 88,
      "metadata": {
        "id": "oMnHsiLjBQ9f"
      },
      "outputs": [],
      "source": [
        "fp_indices = np.where(np.logical_and(Y_te_new == 0, y_pred_svm == 1))[0]\n",
        "\n",
        "fp = Y_te[fp_indices]"
      ]
    },
    {
      "cell_type": "code",
      "execution_count": 89,
      "metadata": {
        "colab": {
          "base_uri": "https://localhost:8080/"
        },
        "id": "CSGevaEEF1_H",
        "outputId": "6cc605f2-968c-4664-fb0c-f7ffb1e50cb1"
      },
      "outputs": [
        {
          "data": {
            "text/plain": [
              "array([3, 8, 8, 8, 2, 8, 8, 8, 8, 8, 8, 0, 8, 8, 8, 2, 8, 8, 8, 8, 8],\n",
              "      dtype=uint8)"
            ]
          },
          "execution_count": 89,
          "metadata": {},
          "output_type": "execute_result"
        }
      ],
      "source": [
        "fp"
      ]
    },
    {
      "cell_type": "code",
      "execution_count": 90,
      "metadata": {
        "id": "Zk6LsTKQrlFR"
      },
      "outputs": [],
      "source": [
        "fn_indices = np.where(np.logical_and(Y_te_new == 1, y_pred_svm == 0))[0]\n",
        "\n",
        "fn = Y_te[fn_indices]"
      ]
    },
    {
      "cell_type": "code",
      "execution_count": 91,
      "metadata": {
        "colab": {
          "base_uri": "https://localhost:8080/"
        },
        "id": "g8wxioM_rlB8",
        "outputId": "bdd2e8be-505c-4fac-c0fc-3fac60be6938"
      },
      "outputs": [
        {
          "data": {
            "text/plain": [
              "array([5, 5, 9, 5, 5, 5, 9, 5, 5, 9, 5], dtype=uint8)"
            ]
          },
          "execution_count": 91,
          "metadata": {},
          "output_type": "execute_result"
        }
      ],
      "source": [
        "fn"
      ]
    },
    {
      "cell_type": "code",
      "execution_count": 92,
      "metadata": {
        "id": "2EkxQv9-GuMP"
      },
      "outputs": [],
      "source": [
        "fp_indices = np.where(np.logical_and(Y_te_new == 0, y_pred_rf == 1))[0]\n",
        "\n",
        "fp = Y_te[fp_indices]"
      ]
    },
    {
      "cell_type": "code",
      "execution_count": 93,
      "metadata": {
        "colab": {
          "base_uri": "https://localhost:8080/"
        },
        "id": "Oj6FPLjaGuGM",
        "outputId": "ec8735f5-caac-4051-8191-c6a9c8c862db"
      },
      "outputs": [
        {
          "data": {
            "text/plain": [
              "array([8, 8, 8, 8, 8, 8], dtype=uint8)"
            ]
          },
          "execution_count": 93,
          "metadata": {},
          "output_type": "execute_result"
        }
      ],
      "source": [
        "fp"
      ]
    },
    {
      "cell_type": "code",
      "execution_count": 94,
      "metadata": {
        "id": "gdTQTA_PG5QZ"
      },
      "outputs": [],
      "source": [
        "fn_indices = np.where(np.logical_and(Y_te_new == 1, y_pred_rf == 0))[0]\n",
        "\n",
        "fn = Y_te[fn_indices]"
      ]
    },
    {
      "cell_type": "code",
      "execution_count": 95,
      "metadata": {
        "colab": {
          "base_uri": "https://localhost:8080/"
        },
        "id": "ewDkm0uLG5Kk",
        "outputId": "539ee76a-9a2a-4af2-d32e-c56c49bc32d6"
      },
      "outputs": [
        {
          "data": {
            "text/plain": [
              "array([9, 5, 9, 5, 5], dtype=uint8)"
            ]
          },
          "execution_count": 95,
          "metadata": {},
          "output_type": "execute_result"
        }
      ],
      "source": [
        "fn"
      ]
    },
    {
      "cell_type": "markdown",
      "metadata": {
        "id": "MjBQDjdHM0FM"
      },
      "source": [
        "### Bonus:\n",
        "\n",
        "- In question S4 you have a chance to discard one of image categories that are part of the non-shoe set. Which category would you prefer to discard? Explain and justify with data\n",
        "\n",
        "I prefer to discard category 8, as it consist the majority of the false positives.\n"
      ]
    }
  ],
  "metadata": {
    "colab": {
      "provenance": []
    },
    "kernelspec": {
      "display_name": "Python 3 (ipykernel)",
      "language": "python",
      "name": "python3"
    },
    "language_info": {
      "codemirror_mode": {
        "name": "ipython",
        "version": 3
      },
      "file_extension": ".py",
      "mimetype": "text/x-python",
      "name": "python",
      "nbconvert_exporter": "python",
      "pygments_lexer": "ipython3",
      "version": "3.9.18"
    }
  },
  "nbformat": 4,
  "nbformat_minor": 0
}
